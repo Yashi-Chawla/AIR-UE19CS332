{
 "cells": [
  {
   "cell_type": "markdown",
   "metadata": {},
   "source": [
    "# Loading Dependencies"
   ]
  },
  {
   "cell_type": "markdown",
   "metadata": {},
   "source": [
    "## Loading Data"
   ]
  },
  {
   "cell_type": "code",
   "execution_count": 1,
   "metadata": {},
   "outputs": [],
   "source": [
    "from sklearn.datasets import fetch_20newsgroups\n",
    "newsgroup = fetch_20newsgroups(subset='all')"
   ]
  },
  {
   "cell_type": "markdown",
   "metadata": {},
   "source": [
    "## Importing Libraries"
   ]
  },
  {
   "cell_type": "code",
   "execution_count": 2,
   "metadata": {},
   "outputs": [],
   "source": [
    "import nltk\n",
    "import time\n",
    "import string\n",
    "import numpy as np\n",
    "import pandas as pd\n",
    "from tqdm.auto import tqdm\n",
    "from nltk.tokenize import word_tokenize"
   ]
  },
  {
   "cell_type": "markdown",
   "metadata": {},
   "source": [
    "## Preprocessing Dependencies"
   ]
  },
  {
   "cell_type": "code",
   "execution_count": 3,
   "metadata": {},
   "outputs": [],
   "source": [
    "stopwords = nltk.corpus.stopwords.words('english')\n",
    "stemmer = nltk.stem.SnowballStemmer('english')\n",
    "lemmatizer = nltk.stem.WordNetLemmatizer()"
   ]
  },
  {
   "cell_type": "code",
   "execution_count": 4,
   "metadata": {},
   "outputs": [],
   "source": [
    "def preprocess(article):\n",
    "    article = word_tokenize(article.lower().strip())\n",
    "    article = [\n",
    "        lemmatizer.lemmatize(w)\n",
    "        for w in article \n",
    "            if w not in stopwords and w not in string.punctuation\n",
    "    ]\n",
    "    return article"
   ]
  },
  {
   "cell_type": "code",
   "execution_count": 5,
   "metadata": {},
   "outputs": [],
   "source": [
    "def get_vocabulary(articles):\n",
    "    vocabulary = set()\n",
    "    for article in articles:\n",
    "        for word in article:\n",
    "            vocabulary.add(word)\n",
    "    vocabulary = list(vocabulary)\n",
    "    vocabulary_size = len(vocabulary)\n",
    "    return (vocabulary, vocabulary_size)"
   ]
  },
  {
   "cell_type": "markdown",
   "metadata": {},
   "source": [
    "## BST Dependencies"
   ]
  },
  {
   "cell_type": "code",
   "execution_count": 6,
   "metadata": {},
   "outputs": [],
   "source": [
    "class Node:\n",
    "    def __init__(self, word, document_id):\n",
    "        self.word = word\n",
    "        self.postings = [document_id]\n",
    "        self.document_frequency = 1\n",
    "\n",
    "        self.left = None\n",
    "        self.right = None\n",
    "\n",
    "    def add_doc_to_word_posting(self, document_id):\n",
    "        if document_id not in self.postings:\n",
    "            self.postings.append(document_id)\n",
    "            self.document_frequency += 1"
   ]
  },
  {
   "cell_type": "code",
   "execution_count": 7,
   "metadata": {},
   "outputs": [],
   "source": [
    "class BST:\n",
    "    def __init__(self):\n",
    "        self.root = None\n",
    "\n",
    "    def insert(self, word, document_id):\n",
    "        if self.root is None:\n",
    "            self.root = Node(word, document_id)\n",
    "            return\n",
    "        else:\n",
    "            self.insert_word(self.root, word, document_id)\n",
    "    \n",
    "    def insert_word(self, node, word, document_id):\n",
    "        if word < node.word:\n",
    "            if node.left is None:\n",
    "                node.left = Node(word, document_id)\n",
    "            else:\n",
    "                self.insert_word(node.left, word, document_id)\n",
    "        elif word > node.word:\n",
    "            if node.right is None:\n",
    "                node.right = Node(word, document_id)\n",
    "            else:\n",
    "                self.insert_word(node.right, word, document_id)\n",
    "        else:\n",
    "            node.add_doc_to_word_posting(document_id)\n",
    "\n",
    "    def search(self, word):\n",
    "        if self.root:\n",
    "            return self.search_word(self.root, word)\n",
    "        else:\n",
    "            return None\n",
    "\n",
    "    def search_word(self, node, word):\n",
    "        if word < node.word:\n",
    "            if node.left is None:\n",
    "                return None\n",
    "            else:\n",
    "                return self.search_word(node.left, word)\n",
    "        elif word > node.word:\n",
    "            if node.right is None:\n",
    "                return None\n",
    "            else:\n",
    "                return self.search_word(node.right, word)\n",
    "        else:\n",
    "            return (node.postings, node.document_frequency)\n",
    "\n",
    "#     def inorder(self):\n",
    "#         if self.root:\n",
    "#             self.inorder_traversal(self.root)\n",
    "\n",
    "#     def inorder_traversal(self, node):\n",
    "#         if node.left:\n",
    "#             self.inorder_traversal(node.left)\n",
    "#         print(f'{node.word} {node.postings} {node.document_frequency}')\n",
    "#         if node.right:\n",
    "#             self.inorder_traversal(node.right)"
   ]
  },
  {
   "cell_type": "markdown",
   "metadata": {},
   "source": [
    "# Creating Dictionaries"
   ]
  },
  {
   "cell_type": "code",
   "execution_count": 8,
   "metadata": {},
   "outputs": [
    {
     "name": "stdout",
     "output_type": "stream",
     "text": [
      "Wall time: 3min 13s\n"
     ]
    }
   ],
   "source": [
    "%%time\n",
    "preprocessed_articles = list(map(preprocess, newsgroup['data']))\n",
    "document_ids = list(newsgroup['target'])"
   ]
  },
  {
   "cell_type": "markdown",
   "metadata": {},
   "source": [
    "## Creating BST"
   ]
  },
  {
   "cell_type": "code",
   "execution_count": 9,
   "metadata": {},
   "outputs": [],
   "source": [
    "def create_search_tree(articles, document_ids):\n",
    "    search_tree = BST()\n",
    "    for i in tqdm(range(len(articles))):\n",
    "        article = articles[i]\n",
    "        document_id = document_ids[i]\n",
    "        for word in article:\n",
    "            search_tree.insert(word, document_id)\n",
    "    return search_tree"
   ]
  },
  {
   "cell_type": "code",
   "execution_count": 10,
   "metadata": {},
   "outputs": [
    {
     "data": {
      "application/vnd.jupyter.widget-view+json": {
       "model_id": "0718c22b0e6f4a9787c9db0f61f43886",
       "version_major": 2,
       "version_minor": 0
      },
      "text/plain": [
       "HBox(children=(FloatProgress(value=0.0, max=18846.0), HTML(value='')))"
      ]
     },
     "metadata": {},
     "output_type": "display_data"
    },
    {
     "name": "stdout",
     "output_type": "stream",
     "text": [
      "\n",
      "Wall time: 46.9 s\n"
     ]
    }
   ],
   "source": [
    "%%time\n",
    "start_time = time.time()\n",
    "search_tree = create_search_tree(preprocessed_articles, document_ids)\n",
    "bst_creation_duration = time.time() - start_time"
   ]
  },
  {
   "cell_type": "markdown",
   "metadata": {},
   "source": [
    "## Creating Hash Table"
   ]
  },
  {
   "cell_type": "code",
   "execution_count": 11,
   "metadata": {},
   "outputs": [],
   "source": [
    "def create_hash_table(articles, document_ids):\n",
    "    # vocabulary, vocabulary_size = get_vocabulary(articles)\n",
    "    # hash_table_size = vocabulary_size\n",
    "    hash_table_size = 100000\n",
    "    hash_table = [list() for _ in range(hash_table_size)]\n",
    "    for i in tqdm(range(len(articles))):\n",
    "        article = articles[i]\n",
    "        document_id = document_ids[i]\n",
    "        for word in article:\n",
    "            hash_idx = hash(word) % hash_table_size\n",
    "            if not hash_table[hash_idx]: # if spot is empty\n",
    "                hash_table[hash_idx].append([word, 1, [document_id]])\n",
    "                \n",
    "                \n",
    "            else: # if spot is full\n",
    "                word_present = False # check word is already there. If yes, increment doc freq, add doc_id if needed\n",
    "                for j in range(len(hash_table[hash_idx])):\n",
    "                    chain_word = hash_table[hash_idx][j][0]\n",
    "                    if chain_word == word:\n",
    "                        word_present = True\n",
    "                        if document_id not in hash_table[hash_idx][j][2]:\n",
    "                            hash_table[hash_idx][j][2].append(document_id)\n",
    "                            hash_table[hash_idx][j][1] += 1\n",
    "                        break\n",
    "                \n",
    "                if not word_present: # word not present in chain\n",
    "                    hash_table[hash_idx].append([word, 1, [document_id]])\n",
    "    \n",
    "    return hash_table, hash_table_size "
   ]
  },
  {
   "cell_type": "code",
   "execution_count": 12,
   "metadata": {},
   "outputs": [
    {
     "data": {
      "application/vnd.jupyter.widget-view+json": {
       "model_id": "0c32bcd8755f4a8291f83b4bf54e532d",
       "version_major": 2,
       "version_minor": 0
      },
      "text/plain": [
       "HBox(children=(FloatProgress(value=0.0, max=18846.0), HTML(value='')))"
      ]
     },
     "metadata": {},
     "output_type": "display_data"
    },
    {
     "name": "stdout",
     "output_type": "stream",
     "text": [
      "\n",
      "Wall time: 10.3 s\n"
     ]
    }
   ],
   "source": [
    "%%time\n",
    "start_time = time.time()\n",
    "hash_table, hash_table_size = create_hash_table(preprocessed_articles, document_ids)\n",
    "hash_table_creation_duration = time.time() - start_time"
   ]
  },
  {
   "cell_type": "markdown",
   "metadata": {},
   "source": [
    "# Querying Dictionaries"
   ]
  },
  {
   "cell_type": "code",
   "execution_count": 13,
   "metadata": {},
   "outputs": [],
   "source": [
    "vocabulary, vocabulary_size = get_vocabulary(preprocessed_articles)"
   ]
  },
  {
   "cell_type": "markdown",
   "metadata": {},
   "source": [
    "## Querying BST"
   ]
  },
  {
   "cell_type": "code",
   "execution_count": 14,
   "metadata": {},
   "outputs": [
    {
     "data": {
      "text/plain": [
       "[17, 19, 1, 13, 15, 14, 18, 0, 11]"
      ]
     },
     "execution_count": 14,
     "metadata": {},
     "output_type": "execute_result"
    }
   ],
   "source": [
    "search_result = search_tree.search(\"india\")\n",
    "search_result[0]"
   ]
  },
  {
   "cell_type": "markdown",
   "metadata": {},
   "source": [
    "### Average Query Time"
   ]
  },
  {
   "cell_type": "code",
   "execution_count": 15,
   "metadata": {},
   "outputs": [],
   "source": [
    "query_times = list()\n",
    "for word in vocabulary:\n",
    "    start_time = time.time()\n",
    "    search_result = search_tree.search(word)\n",
    "    query_duration = time.time() - start_time\n",
    "    query_times.append(query_duration)\n",
    "bst_query_duration = np.mean(query_times)"
   ]
  },
  {
   "cell_type": "markdown",
   "metadata": {},
   "source": [
    "## Querying Hash Table"
   ]
  },
  {
   "cell_type": "code",
   "execution_count": 16,
   "metadata": {},
   "outputs": [],
   "source": [
    "def query_hash_table(hash_table, hash_table_size, word):\n",
    "    hash_idx = hash(word) % hash_table_size\n",
    "    for chain_word in hash_table[hash_idx]:\n",
    "        if chain_word[0] == word:\n",
    "            return chain_word[2]"
   ]
  },
  {
   "cell_type": "code",
   "execution_count": 17,
   "metadata": {},
   "outputs": [
    {
     "data": {
      "text/plain": [
       "[17, 19, 1, 13, 15, 14, 18, 0, 11]"
      ]
     },
     "execution_count": 17,
     "metadata": {},
     "output_type": "execute_result"
    }
   ],
   "source": [
    "search_result = query_hash_table(hash_table, hash_table_size, \"india\")\n",
    "search_result"
   ]
  },
  {
   "cell_type": "code",
   "execution_count": 18,
   "metadata": {},
   "outputs": [],
   "source": [
    "query_times = list()\n",
    "for word in vocabulary:\n",
    "    start_time = time.time()\n",
    "    search_result = query_hash_table(hash_table, hash_table_size, word)\n",
    "    query_duration = time.time() - start_time\n",
    "    query_times.append(query_duration)\n",
    "hash_table_query_duration = np.mean(query_times)"
   ]
  },
  {
   "cell_type": "markdown",
   "metadata": {},
   "source": [
    "# Comparison between BST and Hash Table"
   ]
  },
  {
   "cell_type": "code",
   "execution_count": 19,
   "metadata": {},
   "outputs": [
    {
     "data": {
      "text/html": [
       "<div>\n",
       "<style scoped>\n",
       "    .dataframe tbody tr th:only-of-type {\n",
       "        vertical-align: middle;\n",
       "    }\n",
       "\n",
       "    .dataframe tbody tr th {\n",
       "        vertical-align: top;\n",
       "    }\n",
       "\n",
       "    .dataframe thead th {\n",
       "        text-align: right;\n",
       "    }\n",
       "</style>\n",
       "<table border=\"1\" class=\"dataframe\">\n",
       "  <thead>\n",
       "    <tr style=\"text-align: right;\">\n",
       "      <th></th>\n",
       "      <th>Creation Time (seconds)</th>\n",
       "      <th>Query Time (μ seconds)</th>\n",
       "      <th>Memory Size (bytes)</th>\n",
       "    </tr>\n",
       "    <tr>\n",
       "      <th>Method</th>\n",
       "      <th></th>\n",
       "      <th></th>\n",
       "      <th></th>\n",
       "    </tr>\n",
       "  </thead>\n",
       "  <tbody>\n",
       "    <tr>\n",
       "      <th>Hash Table</th>\n",
       "      <td>10.310952</td>\n",
       "      <td>2.358792</td>\n",
       "      <td>824440</td>\n",
       "    </tr>\n",
       "    <tr>\n",
       "      <th>BST</th>\n",
       "      <td>46.896016</td>\n",
       "      <td>25.425855</td>\n",
       "      <td>32</td>\n",
       "    </tr>\n",
       "  </tbody>\n",
       "</table>\n",
       "</div>"
      ],
      "text/plain": [
       "            Creation Time (seconds)  Query Time (μ seconds)  \\\n",
       "Method                                                        \n",
       "Hash Table                10.310952                2.358792   \n",
       "BST                       46.896016               25.425855   \n",
       "\n",
       "            Memory Size (bytes)  \n",
       "Method                           \n",
       "Hash Table               824440  \n",
       "BST                          32  "
      ]
     },
     "execution_count": 19,
     "metadata": {},
     "output_type": "execute_result"
    }
   ],
   "source": [
    "comparison_df = pd.DataFrame()\n",
    "comparison_df[\"Method\"] = ['Hash Table', 'BST']\n",
    "comparison_df.set_index(\"Method\", inplace=True)\n",
    "comparison_df[\"Creation Time (seconds)\"] = [hash_table_creation_duration, bst_creation_duration]\n",
    "comparison_df[\"Query Time (μ seconds)\"] = [hash_table_query_duration * 10 ** 6, bst_query_duration * 10 ** 6]\n",
    "comparison_df[\"Memory Size (bytes)\"] = [hash_table.__sizeof__(), search_tree.__sizeof__()]\n",
    "comparison_df"
   ]
  }
 ],
 "metadata": {
  "kernelspec": {
   "display_name": "Python 3",
   "language": "python",
   "name": "python3"
  },
  "language_info": {
   "codemirror_mode": {
    "name": "ipython",
    "version": 3
   },
   "file_extension": ".py",
   "mimetype": "text/x-python",
   "name": "python",
   "nbconvert_exporter": "python",
   "pygments_lexer": "ipython3",
   "version": "3.7.6"
  }
 },
 "nbformat": 4,
 "nbformat_minor": 5
}
