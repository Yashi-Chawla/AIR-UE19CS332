{
 "cells": [
  {
   "cell_type": "markdown",
   "id": "a9a02988",
   "metadata": {},
   "source": [
    "# Loading Dependencies"
   ]
  },
  {
   "cell_type": "markdown",
   "id": "24a27aa1",
   "metadata": {},
   "source": [
    "## Loading Data"
   ]
  },
  {
   "cell_type": "code",
   "execution_count": 1,
   "id": "f551902b",
   "metadata": {},
   "outputs": [],
   "source": [
    "from sklearn.datasets import fetch_20newsgroups\n",
    "newsgroup = fetch_20newsgroups(subset='all')"
   ]
  },
  {
   "cell_type": "markdown",
   "id": "bc269634",
   "metadata": {},
   "source": [
    "## Importing Libraries"
   ]
  },
  {
   "cell_type": "code",
   "execution_count": 2,
   "id": "0601fbe6",
   "metadata": {},
   "outputs": [],
   "source": [
    "import nltk\n",
    "import string\n",
    "from tqdm.auto import tqdm\n",
    "from nltk.tokenize import word_tokenize"
   ]
  },
  {
   "cell_type": "markdown",
   "id": "d357a4c6",
   "metadata": {},
   "source": [
    "## Preprocessing Dependencies"
   ]
  },
  {
   "cell_type": "code",
   "execution_count": 3,
   "id": "9b598138",
   "metadata": {},
   "outputs": [],
   "source": [
    "stopwords = nltk.corpus.stopwords.words('english')\n",
    "stemmer = nltk.stem.SnowballStemmer('english')\n",
    "lemmatizer = nltk.stem.WordNetLemmatizer()"
   ]
  },
  {
   "cell_type": "code",
   "execution_count": 4,
   "id": "428c4aaa",
   "metadata": {},
   "outputs": [],
   "source": [
    "def preprocess_article(article):\n",
    "    article = word_tokenize(article.lower().strip())\n",
    "    article = [\n",
    "        lemmatizer.lemmatize(w)\n",
    "        for w in article \n",
    "            if w not in stopwords and w not in string.punctuation\n",
    "    ]\n",
    "    return article"
   ]
  },
  {
   "cell_type": "markdown",
   "id": "1908f25a",
   "metadata": {},
   "source": [
    "## BST Dependencies"
   ]
  },
  {
   "cell_type": "code",
   "execution_count": 5,
   "id": "7aebf4a3",
   "metadata": {},
   "outputs": [],
   "source": [
    "class Node:\n",
    "    def __init__(self, word, document_id):\n",
    "        self.word = word\n",
    "        self.postings = [document_id]\n",
    "        self.document_frequency = 1\n",
    "\n",
    "        self.left = None\n",
    "        self.right = None\n",
    "\n",
    "    def add_doc_to_word_posting(self, document_id):\n",
    "        if document_id not in self.postings:\n",
    "            self.postings.append(document_id)\n",
    "            self.document_frequency += 1"
   ]
  },
  {
   "cell_type": "code",
   "execution_count": 6,
   "id": "570177a0",
   "metadata": {},
   "outputs": [],
   "source": [
    "class BST:\n",
    "    def __init__(self):\n",
    "        self.root = None\n",
    "\n",
    "    def insert(self, word, document_id):\n",
    "        if self.root is None:\n",
    "            self.root = Node(word, document_id)\n",
    "            return\n",
    "        else:\n",
    "            self.insert_word(self.root, word, document_id)\n",
    "    \n",
    "    def insert_word(self, node, word, document_id):\n",
    "        if word < node.word:\n",
    "            if node.left is None:\n",
    "                node.left = Node(word, document_id)\n",
    "            else:\n",
    "                self.insert_word(node.left, word, document_id)\n",
    "        elif word > node.word:\n",
    "            if node.right is None:\n",
    "                node.right = Node(word, document_id)\n",
    "            else:\n",
    "                self.insert_word(node.right, word, document_id)\n",
    "        else:\n",
    "            node.add_doc_to_word_posting(document_id)\n",
    "\n",
    "    def search(self, word):\n",
    "        if self.root:\n",
    "            return self.search_word(self.root, word)\n",
    "        else:\n",
    "            return None\n",
    "\n",
    "    def search_word(self, node, word):\n",
    "        if word < node.word:\n",
    "            if node.left is None:\n",
    "                return None\n",
    "            else:\n",
    "                return self.search_word(node.left, word)\n",
    "        elif word > node.word:\n",
    "            if node.right is None:\n",
    "                return None\n",
    "            else:\n",
    "                return self.search_word(node.right, word)\n",
    "        else:\n",
    "            return (node.postings, node.document_frequency)\n",
    "\n",
    "    def inorder(self):\n",
    "        if self.root:\n",
    "            self.inorder_traversal(self.root)\n",
    "\n",
    "    def inorder_traversal(self, node):\n",
    "        if node.left:\n",
    "            self.inorder_traversal(node.left)\n",
    "        print(f'{node.word} {node.postings} {node.document_frequency}')\n",
    "        if node.right:\n",
    "            self.inorder_traversal(node.right)"
   ]
  },
  {
   "cell_type": "markdown",
   "id": "fd6cf839",
   "metadata": {},
   "source": [
    "# Creating BST"
   ]
  },
  {
   "cell_type": "code",
   "execution_count": 7,
   "id": "73d4561e",
   "metadata": {},
   "outputs": [],
   "source": [
    "def create_search_tree():\n",
    "    search_tree = BST()\n",
    "    for i in tqdm(range(len(newsgroup['data']))):\n",
    "        article = newsgroup['data'][i]\n",
    "        article = preprocess_article(article)\n",
    "        document_id = newsgroup['target'][i]\n",
    "        for word in article:\n",
    "            search_tree.insert(word, document_id)\n",
    "    return search_tree"
   ]
  },
  {
   "cell_type": "code",
   "execution_count": 8,
   "id": "bd037d20",
   "metadata": {},
   "outputs": [
    {
     "data": {
      "application/vnd.jupyter.widget-view+json": {
       "model_id": "90adba32c3934a8e9667fdd5bbe045be",
       "version_major": 2,
       "version_minor": 0
      },
      "text/plain": [
       "  0%|          | 0/18846 [00:00<?, ?it/s]"
      ]
     },
     "metadata": {},
     "output_type": "display_data"
    },
    {
     "name": "stdout",
     "output_type": "stream",
     "text": [
      "CPU times: user 1min 23s, sys: 433 ms, total: 1min 23s\n",
      "Wall time: 1min 22s\n"
     ]
    }
   ],
   "source": [
    "%%time\n",
    "search_tree = create_search_tree()"
   ]
  },
  {
   "cell_type": "markdown",
   "id": "07d58443",
   "metadata": {},
   "source": [
    "# Querying BST"
   ]
  },
  {
   "cell_type": "code",
   "execution_count": 9,
   "id": "d3564097",
   "metadata": {},
   "outputs": [],
   "source": [
    "# def query_search_tree(query): # To handle multi-word queries\n",
    "#     query = preprocess_article(query)\n",
    "#     query_result = list()\n",
    "#     for word in query:\n",
    "#         word_result = search_tree.search(word)\n",
    "#         query_result.append(set(word_result[0]))\n",
    "#     return list(set.intersection(*query_result))"
   ]
  },
  {
   "cell_type": "code",
   "execution_count": 10,
   "id": "e3c5c403",
   "metadata": {},
   "outputs": [
    {
     "name": "stdout",
     "output_type": "stream",
     "text": [
      "CPU times: user 58 µs, sys: 2 µs, total: 60 µs\n",
      "Wall time: 64.4 µs\n"
     ]
    },
    {
     "data": {
      "text/plain": [
       "([17, 19, 1, 13, 15, 14, 18, 0, 11], 9)"
      ]
     },
     "execution_count": 10,
     "metadata": {},
     "output_type": "execute_result"
    }
   ],
   "source": [
    "%%time\n",
    "search_result = search_tree.search(\"india\")\n",
    "search_result"
   ]
  },
  {
   "cell_type": "code",
   "execution_count": null,
   "id": "894ba5dd",
   "metadata": {},
   "outputs": [],
   "source": []
  },
  {
   "cell_type": "code",
   "execution_count": null,
   "id": "d5213b14",
   "metadata": {},
   "outputs": [],
   "source": []
  },
  {
   "cell_type": "code",
   "execution_count": null,
   "id": "fdfc2505",
   "metadata": {},
   "outputs": [],
   "source": []
  },
  {
   "cell_type": "code",
   "execution_count": null,
   "id": "60efd74d",
   "metadata": {},
   "outputs": [],
   "source": []
  }
 ],
 "metadata": {
  "kernelspec": {
   "display_name": "Python 3 (ipykernel)",
   "language": "python",
   "name": "python3"
  },
  "language_info": {
   "codemirror_mode": {
    "name": "ipython",
    "version": 3
   },
   "file_extension": ".py",
   "mimetype": "text/x-python",
   "name": "python",
   "nbconvert_exporter": "python",
   "pygments_lexer": "ipython3",
   "version": "3.9.7"
  }
 },
 "nbformat": 4,
 "nbformat_minor": 5
}
